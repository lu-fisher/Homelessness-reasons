{
 "cells": [
  {
   "cell_type": "code",
   "execution_count": 1,
   "id": "5a3a951f",
   "metadata": {},
   "outputs": [],
   "source": [
    "import pandas as pd\n",
    "import numpy as np\n",
    "import matplotlib.pyplot as plt\n",
    "\n",
    "df = pd.read_csv('C:/Users/lucyf/Coding/Homelessness-reasons/data/master_df.csv')"
   ]
  },
  {
   "cell_type": "code",
   "execution_count": 2,
   "id": "25b64fd7",
   "metadata": {},
   "outputs": [],
   "source": [
    "X = df[['total_prevention_duty']]\n",
    "y = df['total_successful_prevention']\n",
    "\n",
    "from sklearn.model_selection import train_test_split\n",
    "from sklearn.linear_model import LinearRegression\n",
    "model = LinearRegression()\n",
    "model.fit(X, y)\n",
    "y_pred = model.predict(X)"
   ]
  },
  {
   "cell_type": "code",
   "execution_count": 3,
   "id": "7feb5984",
   "metadata": {},
   "outputs": [
    {
     "data": {
      "image/png": "[encoded data removed]",
      "text/plain": [
       "<Figure size 432x288 with 1 Axes>"
      ]
     },
     "metadata": {
      "needs_background": "light"
     },
     "output_type": "display_data"
    }
   ],
   "source": [
    "plt.scatter(X, y)\n",
    "plt.plot(X, y_pred)\n",
    "plt.show()"
   ]
  },
  {
   "cell_type": "code",
   "execution_count": 4,
   "id": "17879305",
   "metadata": {},
   "outputs": [
    {
     "data": {
      "text/plain": [
       "0.7813398872253807"
      ]
     },
     "execution_count": 4,
     "metadata": {},
     "output_type": "execute_result"
    }
   ],
   "source": [
    "model.score(X, y)"
   ]
  },
  {
   "cell_type": "code",
   "execution_count": 5,
   "id": "4094e99d",
   "metadata": {},
   "outputs": [
    {
     "data": {
      "image/png": "[encoded data removed]",
      "text/plain": [
       "<Figure size 432x288 with 1 Axes>"
      ]
     },
     "metadata": {
      "needs_background": "light"
     },
     "output_type": "display_data"
    },
    {
     "data": {
      "text/plain": [
       "<Figure size 432x288 with 0 Axes>"
      ]
     },
     "metadata": {},
     "output_type": "display_data"
    }
   ],
   "source": [
    "X = df[['total_prevention_duty']]\n",
    "y = df['total_successful_prevention']\n",
    "\n",
    "X_test, X_train, y_test, y_train = train_test_split(X, y, test_size=0.2, random_state=42)\n",
    "\n",
    "model = LinearRegression()\n",
    "model.fit(X_train, y_train)\n",
    "y_pred = model.predict(X_test)\n",
    "\n",
    "plt.scatter(X, y)\n",
    "plt.plot(X_test, y_pred)\n",
    "plt.show()\n",
    "plt.clf()"
   ]
  },
  {
   "cell_type": "code",
   "execution_count": 6,
   "id": "d21ebaf7",
   "metadata": {},
   "outputs": [
    {
     "data": {
      "text/plain": [
       "0.7741075834830209"
      ]
     },
     "execution_count": 6,
     "metadata": {},
     "output_type": "execute_result"
    }
   ],
   "source": [
    "model.score(X_test, y_test)"
   ]
  },
  {
   "cell_type": "code",
   "execution_count": 7,
   "id": "45bba82f",
   "metadata": {},
   "outputs": [],
   "source": [
    "df = df.dropna()"
   ]
  },
  {
   "cell_type": "code",
   "execution_count": 8,
   "id": "80dd84fe",
   "metadata": {},
   "outputs": [
    {
     "data": {
      "text/plain": [
       "Unnamed: 0                          0\n",
       "ONS_code                            0\n",
       "local_authority                     0\n",
       "total_prevention_duty               0\n",
       "AST_total                           0\n",
       "AST_arrears_budgeting               0\n",
       "AST_arrears_rent_increase           0\n",
       "AST_arrears_employment_reduction    0\n",
       "AST_arrears_benefit_reduction       0\n",
       "AST_arrears_personal_circs          0\n",
       "AST_breach                          0\n",
       "AST_LL_sell_relet                   0\n",
       "AST_disrepair_complaint             0\n",
       "AST_illegal_eviction                0\n",
       "AST_abandoned                       0\n",
       "AST_other                           0\n",
       "non_AST_private_let                 0\n",
       "family_friends                      0\n",
       "relationship_breakdown              0\n",
       "domestic_violence                   0\n",
       "other_violence                      0\n",
       "social_total                        0\n",
       "social_arrears                      0\n",
       "social_breach                       0\n",
       "social_other                        0\n",
       "supported_total                     0\n",
       "supported_arrears                   0\n",
       "supported_breach                    0\n",
       "supported_other                     0\n",
       "institution                         0\n",
       "asylum_accommodation                0\n",
       "other_x                             0\n",
       "year                                0\n",
       "quarter                             0\n",
       "total_successful_prevention         0\n",
       "total_PRS                           0\n",
       "PRS_sc                              0\n",
       "PRS_HMO                             0\n",
       "PRS_lodging                         0\n",
       "total_SRS                           0\n",
       "SRS_council                         0\n",
       "SRS_RP                              0\n",
       "SRS_supported                       0\n",
       "family                              0\n",
       "friends                             0\n",
       "owner_occupier                      0\n",
       "other_y                             0\n",
       "not_known                           0\n",
       "proportion_prevented                0\n",
       "region_code                         0\n",
       "region_name                         0\n",
       "median_age                          0\n",
       "population_density                  0\n",
       "number_unemployed                   0\n",
       "percent_unemployed                  0\n",
       "deprivation_score                   0\n",
       "HPG_grant                           0\n",
       "dtype: int64"
      ]
     },
     "execution_count": 8,
     "metadata": {},
     "output_type": "execute_result"
    }
   ],
   "source": [
    "df.isnull().sum()"
   ]
  },
  {
   "cell_type": "code",
   "execution_count": 9,
   "id": "aa034dfc",
   "metadata": {},
   "outputs": [
    {
     "data": {
      "text/plain": [
       "0.7324049486624278"
      ]
     },
     "execution_count": 9,
     "metadata": {},
     "output_type": "execute_result"
    }
   ],
   "source": [
    "X = df[['total_prevention_duty', 'AST_total', 'year', 'quarter', 'population_density', 'percent_unemployed', 'deprivation_score']]\n",
    "y = df['total_successful_prevention']\n",
    "\n",
    "X_test, X_train, y_test, y_train = train_test_split(X, y, test_size=0.2, random_state=42)\n",
    "\n",
    "model = LinearRegression()\n",
    "model.fit(X_train, y_train)\n",
    "y_pred = model.predict(X_test)\n",
    "\n",
    "model.score(X_test, y_test)"
   ]
  },
  {
   "cell_type": "code",
   "execution_count": null,
   "id": "877a1925",
   "metadata": {},
   "outputs": [],
   "source": []
  },
  {
   "cell_type": "code",
   "execution_count": 10,
   "id": "8c7bd908",
   "metadata": {},
   "outputs": [
    {
     "data": {
      "text/plain": [
       "array(['South East', 'North West', 'East Midlands', 'East  ', 'London',\n",
       "       'Yorkshire and The Humber', 'South West', 'West Midlands',\n",
       "       'North East'], dtype=object)"
      ]
     },
     "execution_count": 10,
     "metadata": {},
     "output_type": "execute_result"
    }
   ],
   "source": [
    "df.region_name.unique()"
   ]
  },
  {
   "cell_type": "code",
   "execution_count": 11,
   "id": "91d4f2b5",
   "metadata": {},
   "outputs": [
    {
     "data": {
      "text/plain": [
       "(2125, 57)"
      ]
     },
     "execution_count": 11,
     "metadata": {},
     "output_type": "execute_result"
    }
   ],
   "source": [
    "df.shape"
   ]
  },
  {
   "cell_type": "code",
   "execution_count": 12,
   "id": "e7c6704e",
   "metadata": {},
   "outputs": [
    {
     "data": {
      "text/plain": [
       "array([ 7.72263795e-01, -5.12863737e-01,  1.41244052e+00,  1.87377236e-01,\n",
       "        2.77263029e-04, -8.18044652e+00,  7.74694347e-02])"
      ]
     },
     "execution_count": 12,
     "metadata": {},
     "output_type": "execute_result"
    }
   ],
   "source": [
    "model.coef_"
   ]
  },
  {
   "cell_type": "code",
   "execution_count": 13,
   "id": "34909956",
   "metadata": {},
   "outputs": [
    {
     "data": {
      "text/plain": [
       "906.2146317617239"
      ]
     },
     "execution_count": 13,
     "metadata": {},
     "output_type": "execute_result"
    }
   ],
   "source": [
    "from sklearn.metrics import mean_squared_error\n",
    "mean_squared_error(y_test, y_pred)"
   ]
  },
  {
   "cell_type": "code",
   "execution_count": 14,
   "id": "0d90fa98",
   "metadata": {},
   "outputs": [
    {
     "name": "stdout",
     "output_type": "stream",
     "text": [
      "0.7325081047130239\n",
      "[ 90.75914545 -17.72888216   0.68396082   0.18341457   1.04453632\n",
      "  -9.54639794   0.52200376  -0.34537575]\n"
     ]
    }
   ],
   "source": [
    "X = df.dropna()[['total_prevention_duty', 'AST_total', 'year', 'quarter', 'population_density', 'percent_unemployed', 'deprivation_score', 'HPG_grant']]\n",
    "y = df.dropna()['total_successful_prevention']\n",
    "\n",
    "X_test, X_train, y_test, y_train = train_test_split(X, y, test_size=0.2, random_state=42)\n",
    "\n",
    "from sklearn.preprocessing import StandardScaler\n",
    "scaler = StandardScaler()\n",
    "scaler.fit(X_train)\n",
    "X_train = scaler.transform(X_train)\n",
    "X_test = scaler.transform(X_test)\n",
    "\n",
    "model = LinearRegression()\n",
    "model.fit(X_train, y_train)\n",
    "y_pred = model.predict(X_test)\n",
    "\n",
    "(print(model.score(X_test, y_test)))\n",
    "(print(model.coef_))"
   ]
  },
  {
   "cell_type": "code",
   "execution_count": 18,
   "id": "53359cd6",
   "metadata": {},
   "outputs": [
    {
     "name": "stdout",
     "output_type": "stream",
     "text": [
      "[1 1 1 3 1 1 1 2]\n"
     ]
    }
   ],
   "source": [
    "from sklearn.feature_selection import RFE\n",
    " \n",
    "# Initialize RFE with the linear regression model and the desired number of features to select\n",
    "rfe = RFE(model, n_features_to_select=6)\n",
    "\n",
    "# Fit RFE on the training data to select the most important features\n",
    "rfe.fit(X_train, y_train)\n",
    "\n",
    "# Get the selected features\n",
    "selected_features = X.columns[rfe.support_]\n",
    "selected_features\n",
    "\n",
    "print(rfe.ranking_)"
   ]
  },
  {
   "cell_type": "code",
   "execution_count": 19,
   "id": "54844894",
   "metadata": {},
   "outputs": [
    {
     "data": {
      "text/plain": [
       "0.7323019540679276"
      ]
     },
     "execution_count": 19,
     "metadata": {},
     "output_type": "execute_result"
    }
   ],
   "source": [
    "rfe.score(X_test, y_test)"
   ]
  },
  {
   "cell_type": "code",
   "execution_count": 23,
   "id": "4eb2272d",
   "metadata": {},
   "outputs": [
    {
     "data": {
      "image/png": "[encoded data removed]",
      "text/plain": [
       "<Figure size 432x288 with 1 Axes>"
      ]
     },
     "metadata": {
      "needs_background": "light"
     },
     "output_type": "display_data"
    }
   ],
   "source": [
    "predictors = X.columns\n",
    "coef = pd.Series(model.coef_,predictors).sort_values()\n",
    "\n",
    "plt.figure()\n",
    "coef.plot(kind='bar', fontsize = 20)\n",
    "plt.title (\"Regression Coefficients\", fontsize = 30)\n",
    "plt.show()"
   ]
  },
  {
   "cell_type": "code",
   "execution_count": null,
   "id": "2bdcdf1b",
   "metadata": {},
   "outputs": [],
   "source": []
  }
 ],
 "metadata": {
  "kernelspec": {
   "display_name": "Python 3",
   "language": "python",
   "name": "python3"
  },
  "language_info": {
   "codemirror_mode": {
    "name": "ipython",
    "version": 3
   },
   "file_extension": ".py",
   "mimetype": "text/x-python",
   "name": "python",
   "nbconvert_exporter": "python",
   "pygments_lexer": "ipython3",
   "version": "3.8.8"
  }
 },
 "nbformat": 4,
 "nbformat_minor": 5
}
